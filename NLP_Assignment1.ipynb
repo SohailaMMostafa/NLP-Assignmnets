{
  "nbformat": 4,
  "nbformat_minor": 0,
  "metadata": {
    "colab": {
      "provenance": []
    },
    "kernelspec": {
      "name": "python3",
      "display_name": "Python 3"
    },
    "language_info": {
      "name": "python"
    }
  },
  "cells": [
    {
      "cell_type": "code",
      "source": [
        "!pip install nltk\n",
        "import nltk\n",
        "nltk.download('punkt')\n",
        "nltk.download('stopwords')\n",
        "nltk.download('wordnet')"
      ],
      "metadata": {
        "id": "izHee3iPS7jR",
        "colab": {
          "base_uri": "https://localhost:8080/"
        },
        "outputId": "e9175387-9bef-424a-fe76-4c254cb5739f"
      },
      "execution_count": null,
      "outputs": [
        {
          "output_type": "stream",
          "name": "stdout",
          "text": [
            "Requirement already satisfied: nltk in /usr/local/lib/python3.10/dist-packages (3.8.1)\n",
            "Requirement already satisfied: click in /usr/local/lib/python3.10/dist-packages (from nltk) (8.1.7)\n",
            "Requirement already satisfied: joblib in /usr/local/lib/python3.10/dist-packages (from nltk) (1.3.2)\n",
            "Requirement already satisfied: regex>=2021.8.3 in /usr/local/lib/python3.10/dist-packages (from nltk) (2023.12.25)\n",
            "Requirement already satisfied: tqdm in /usr/local/lib/python3.10/dist-packages (from nltk) (4.66.2)\n"
          ]
        },
        {
          "output_type": "stream",
          "name": "stderr",
          "text": [
            "[nltk_data] Downloading package punkt to /root/nltk_data...\n",
            "[nltk_data]   Unzipping tokenizers/punkt.zip.\n",
            "[nltk_data] Downloading package stopwords to /root/nltk_data...\n",
            "[nltk_data]   Unzipping corpora/stopwords.zip.\n",
            "[nltk_data] Downloading package wordnet to /root/nltk_data...\n"
          ]
        },
        {
          "output_type": "execute_result",
          "data": {
            "text/plain": [
              "True"
            ]
          },
          "metadata": {},
          "execution_count": 9
        }
      ]
    },
    {
      "cell_type": "code",
      "execution_count": null,
      "metadata": {
        "id": "Nc8ZEaZtRvss"
      },
      "outputs": [],
      "source": [
        "import requests\n",
        "from bs4 import BeautifulSoup\n",
        "import re\n",
        "from nltk.tokenize import word_tokenize\n",
        "from nltk.corpus import stopwords\n",
        "from nltk.stem import WordNetLemmatizer"
      ]
    },
    {
      "cell_type": "code",
      "source": [
        "# Step 1: Extract HTML from URL\n",
        "url = 'https://en.wikipedia.org/wiki/Python_(programming_language)'\n",
        "response = requests.get(url)\n",
        "html = response.text"
      ],
      "metadata": {
        "id": "hp7oE8H_Rzkk"
      },
      "execution_count": null,
      "outputs": []
    },
    {
      "cell_type": "code",
      "source": [
        "# Step 2: Extract text from HTML page (p or headings)\n",
        "soup = BeautifulSoup(html, 'html.parser')\n",
        "text = ' '.join([p.text for p in soup.find_all(['p', 'h1', 'h2', 'h3', 'h4', 'h5', 'h6'])])"
      ],
      "metadata": {
        "id": "wSAxhShWRznE"
      },
      "execution_count": null,
      "outputs": []
    },
    {
      "cell_type": "code",
      "source": [
        "# Step 3: Processing on Data\n",
        "# Cleaning data from symbols or characters\n",
        "text = re.sub(r'[^a-zA-Z\\s]', '', text)"
      ],
      "metadata": {
        "id": "Q9REDBP6Rzpk"
      },
      "execution_count": null,
      "outputs": []
    },
    {
      "cell_type": "code",
      "source": [
        "# Normalization: convert to lower case\n",
        "text = text.lower()"
      ],
      "metadata": {
        "id": "4Y8ABkQ1RzsM"
      },
      "execution_count": null,
      "outputs": []
    },
    {
      "cell_type": "code",
      "source": [
        "# Tokenization: split the data to words\n",
        "words = word_tokenize(text)"
      ],
      "metadata": {
        "id": "eFuolc33Rzur"
      },
      "execution_count": null,
      "outputs": []
    },
    {
      "cell_type": "code",
      "source": [
        "# Lemmatization\n",
        "lemmatizer = WordNetLemmatizer()\n",
        "words = [lemmatizer.lemmatize(word) for word in words]"
      ],
      "metadata": {
        "id": "IQNECsvaRzxT"
      },
      "execution_count": null,
      "outputs": []
    },
    {
      "cell_type": "code",
      "source": [
        "# Stop words removal\n",
        "stop_words = set(stopwords.words('english'))\n",
        "filtered_words = [word for word in words if word not in stop_words]"
      ],
      "metadata": {
        "id": "YUVJcnFDRzzk"
      },
      "execution_count": null,
      "outputs": []
    },
    {
      "cell_type": "code",
      "source": [
        "# Unique words\n",
        "unique_words = set(filtered_words)"
      ],
      "metadata": {
        "id": "PJ_Y1G2sSgNF"
      },
      "execution_count": null,
      "outputs": []
    },
    {
      "cell_type": "code",
      "source": [
        "# Output\n",
        "print(\"Unique words:\")\n",
        "print(unique_words)"
      ],
      "metadata": {
        "id": "f98WKSfYSgR-",
        "colab": {
          "base_uri": "https://localhost:8080/"
        },
        "outputId": "a1115466-a958-451b-ddc3-c31b09538fb9"
      },
      "execution_count": null,
      "outputs": [
        {
          "output_type": "stream",
          "name": "stdout",
          "text": [
            "Unique words:\n",
            "{'represents', 'representation', 'developmentedit', 'speed', 'reflection', 'recent', 'forwardported', 'welldefined', 'noncritical', 'constructed', 'largely', 'roundup', 'design', 'functional', 'altering', 'zen', 'team', 'cinema', 'referencesedit', 'contains', 'input', 'generate', 'librariesedit', 'rigidly', 'implicit', 'fraction', 'dictionary', 'readable', 'advantage', 'singleboard', 'promotes', 'ajaxbased', 'tool', 'extends', 'beginneroriented', 'utility', 'allocated', 'name', 'application', 'repository', 'executed', 'garbagecollected', 'expression', 'pythonic', 'multiparadigm', 'fun', 'bara', 'define', 'always', 'reddit', 'pyjs', 'element', 'unintended', 'bug', 'scikitlearn', 'maintenance', 'surrounding', 'several', 'flowedit', 'motionbuilder', 'interpret', 'package', 'kera', 'execution', 'future', 'determined', 'modwsgi', 'release', 'might', 'platform', 'although', 'blender', 'setl', 'examplesedit', 'state', 'discussed', 'functools', 'time', 'mathematics', 'capella', 'strive', 'bottle', 'forum', 'recommended', 'strongly', 'matrixmultiplication', 'permanent', 'ironpython', 'modular', 'modeler', 'effect', 'february', 'bind', 'esri', 'large', 'decrease', 'computer', 'logic', 'backported', 'attack', 'oldest', 'transcription', 'prolog', 'protocol', 'tracker', 'typical', 'precedence', 'ready', 'division', 'use', 'restricted', 'x', 'major', 'group', 'range', 'since', 'level', 'towards', 'metasyntactic', 'unofficial', 'bab', 'lab', 'endoflife', 'july', 'machine', 'python', 'understand', 'floatingpoint', 'select', 'motto', 'community', 'various', 'denote', 'sketch', 'conditional', 'improved', 'gtk', 'case', 'ten', 'communication', 'simple', 'ides', 'arcgis', 'dynamically', 'never', 'canopy', 'database', 'handled', 'program', 'function', 'stack', 'classic', 'hello', 'much', 'gimp', 'predefined', 'creator', 'scipy', 'older', 'fedora', 'november', 'doubleunderscores', 'intellij', 'mostly', 'outdated', 'embrace', 'last', 'later', 'selected', 'linux', 'problog', 'set', 'guido', 'indentationedit', 'content', 'component', 'indent', 'lisp', 'operationsedit', 'fully', 'existing', 'removed', 'backwardcompatible', 'conceived', 'constraint', 'offer', 'historyedit', 'difficult', 'compliment', 'numpy', 'studio', 'project', 'github', 'text', 'plus', 'format', 'py', 'haskell', 'available', 'ctypes', 'highlighting', 'bar', 'webpy', 'pattern', 'duplicating', 'specialized', 'allow', 'functionality', 'pas', 'form', 'notation', 'denialofservice', 'lazy', 'combinatorial', 'summarized', 'visually', 'ship', 'organization', 'musical', 'cwi', 'silently', 'tornado', 'january', 'cycledetecting', 'supported', 'added', 'science', 'first', 'macos', 'printer', 'sagemath', 'marginal', 'fail', 'describing', 'comedy', 'cpython', 'unsupported', 'duck', 'session', 'pdoc', 'tkinter', 'extensively', 'clarity', 'migrated', 'mixture', 'boolean', 'annotation', 'could', 'public', 'increased', 'cpythons', 'handling', 'interpreter', 'announced', 'benchmarked', 'specific', 'compact', 'coding', 'retention', 'reflect', 'highest', 'tensorflow', 'answering', 'final', 'need', 'martelli', 'modularity', 'borrowed', 'idiom', 'netherlands', 'adopted', 'semicolon', 'round', 'evolved', 'commonly', 'clientside', 'abaqus', 'manner', 'proposing', 'intermediate', 'fails', 'matplotlib', 'typed', 'joining', 'routine', 'system', 'speedcritical', 'calculate', 'idle', 'achieve', 'manipulating', 'game', 'ha', 'usual', 'though', 'pythondev', 'main', 'relational', 'significant', 'aim', 'operating', 'show', 'conversion', 'scripting', 'resolution', 'browserbased', 'specified', 'doxygen', 'certain', 'may', 'produce', 'bracket', 'extensible', 'matching', 'factorial', 'possible', 'specificationsfor', 'gateway', 'proposal', 'api', 'entity', 'series', 'semantics', 'arbitrary', 'addition', 'notable', 'permitting', 'collector', 'incremented', 'combinatorics', 'information', 'memory', 'compiled', 'server', 'fewer', 'amigaos', 'environmentsedit', 'response', 'social', 'flask', 'inkscape', 'ability', 'external', 'accurately', 'potential', 'continues', 'despite', 'serve', 'search', 'proved', 'softimage', 'reporting', 'provider', 'council', 'guideline', 'qt', 'october', 'criticism', 'academic', 'translation', 'staticallytyped', 'traditional', 'performanceedit', 'selfhosted', 'tiebreaking', 'optimization', 'widespread', 'giving', 'literal', 'coroutinelike', 'connecting', 'domainspecific', 'following', 'included', 'bb', 'subsequently', 'allowed', 'suitable', 'violate', 'initially', 'resulting', 'script', 'preferably', 'untyped', 'biopython', 'example', 'fluency', 'according', 'spotify', 'soft', 'turbogears', 'product', 'pi', 'mime', 'mentoring', 'yahoo', 'rationale', 'derived', 'floor', 'remainder', 'inspired', 'official', 'rise', 'adding', 'sdl', 'different', 'equality', 'index', 'unnecessary', 'access', 'meeting', 'rather', 'certainty', 'scientific', 'resigned', 'webcache', 'desktop', 'zope', 'rewriting', 'complex', 'easily', 'condition', 'task', 'pypi', 'version', 'delayed', 'amazon', 'http', 'particularly', 'management', 'doe', 'compile', 'minimalist', 'languagesedit', 'emulated', 'moved', 'unrestricted', 'user', 'embedded', 'neologism', 'implementation', 'contain', 'nature', 'pygame', 'scorewriter', 'limited', 'anaconda', 'decimal', 'document', 'similarites', 'life', 'stemmed', 'methodsedit', 'error', 'paint', 'bestowed', 'namea', 'would', 'oftenused', 'source', 'rank', 'lightwave', 'world', 'took', 'passed', 'c', 'fix', 'significantly', 'whether', 'compiles', 'us', 'meant', 'outstanding', 'intelligence', 'garbage', 'graphviz', 'curly', 'line', 'exploit', 'culture', 'instead', 'behavior', 'offside', 'tiobe', 'centrum', 'concern', 'already', 'postponed', 'reflected', 'year', 'abc', 'lead', 'top', 'field', 'best', 'ide', 'delimit', 'semantic', 'gained', 'conference', 'lambda', 'exception', 'core', 'arithmetic', 'grammar', 'comprehension', 'calculus', 'punctuation', 'useful', 'dcgs', 'maya', 'rebound', 'texttotext', 'gnu', 'opposite', 'janus', 'programming', 'meaning', 'increase', 'others', 'engine', 'ubiquity', 'precision', 'featuresedit', 'objectoriented', 'programmable', 'cderived', 'bytecode', 'namingedit', 'aphorism', 'avoiding', 'industry', 'xp', 'language', 'xo', 'standard', 'alex', 'mode', 'size', 'issue', 'b', 'vacation', 'strength', 'process', 'monitor', 'ubuntu', 'related', 'update', 'space', 'even', 'true', 'modified', 'rating', 'consistently', 'pythonand', 'ipython', 'deprecated', 'read', 'emit', 'leading', 'keywords', 'modulo', 'implemented', 'beginning', 'test', 'ai', 'parameter', 'back', 'high', 'pyqt', 'commitment', 'new', 'interval', 'collection', 'internal', 'dropbox', 'wstr', 'astropy', 'multiple', 'extension', 'pseudorandom', 'prompt', 'ilm', 'indentation', 'metaclass', 'expressionso', 'dictator', 'django', 'mapper', 'security', 'libreoffice', 'mechanism', 'consumption', 'virtual', 'commented', 'sugar', 'probably', 'moving', 'interface', 'insecure', 'problem', 'shell', 'deprecationwarning', 'make', 'including', 'ruby', 'result', 'aid', 'evaluate', 'disallowed', 'loop', 'extensive', 'class', 'halfopen', 'gui', 'sole', 'roundawayfromzero', 'numerical', 'sequentially', 'received', 'provide', 'thirdparty', 'pylon', 'dalle', 'per', 'cause', 'self', 'whitespace', 'typingnamedtuple', 'place', 'method', 'u', 'ita', 'two', 'rough', 'syntactically', 'creating', 'normal', 'lie', 'ie', 'cost', 'argument', 'suite', 'title', 'aspectoriented', 'positive', 'experimental', 'requiring', 'unlike', 'emphasizes', 'regular', 'sometimes', 'implementationedit', 'vms', 'spam', 'beta', 'comparison', 'paradigm', 'tradition', 'oneobvious', 'wikipedia', 'premature', 'effective', 'called', 'philosophy', 'library', 'crosscompile', 'like', 'learning', 'releasecandidates', 'site', 'semanticsedit', 'typingedit', 'combination', 'instance', 'author', 'idea', 'freecad', 'occasionally', 'foo', 'tail', 'nasa', 'clause', 'ab', 'controversial', 'way', 'building', 'fivemember', 'match', 'rarely', 'end', 'compared', 'documenting', 'apache', 'texttoimage', 'distribution', 'term', 'compilerstranspilers', 'pycharm', 'sqlalchemy', 'better', 'pythonanywhere', 'automates', 'userdefined', 'pycon', 'structure', 'alpha', 'usesedit', 'ranked', 'video', 'message', 'generalpurpose', 'decision', 'expedited', 'consistent', 'body', 'changed', 'perls', 'considered', 'common', 'image', 'code', 'british', 'oldstyle', 'gentoo', 'well', 'unidirectionally', 'distinction', 'generatorsedit', 'userprogramming', 'work', 'visual', 'van', 'officially', 'environment', 'formatting', 'unit', 'pretty', 'represent', 'scheme', 'small', 'deliberately', 'integer', 'sphinx', 'remote', 'enhancement', 'software', 'book', 'doesnt', 'contrast', 'sourcecode', 'operator', 'latest', 'opencv', 'popular', 'emphasizing', 'install', 'change', 'continuation', 'max', 'twice', 'done', 'worse', 'possibly', 'oneand', 'emphasis', 'also', 'consistency', 'rossum', 'portability', 'parametric', 'via', 'methodology', 'debugger', 'conventional', 'modo', 'graphical', 'number', 'simpler', 'wrote', 'provides', 'call', 'create', 'appear', 'found', 'equation', 'modify', 'hosting', 'kind', 'programmer', 'filtermapandreduce', 'etc', 'typingin', 'discussion', 'another', 'wiskunde', 'mac', 'assignment', 'add', 'checked', 'full', 'simply', 'signifies', 'corresponds', 'enforced', 'maintaining', 'without', 'netbsd', 'unpythonic', 'expected', 'generating', 'relation', 'either', 'receive', 'designed', 'one', 'late', 'longterm', 'often', 'written', 'similar', 'english', 'current', 'objectivec', 'scribus', 'used', 'principle', 'september', 'counting', 'animation', 'reaching', 'pep', 'hat', 'successor', 'float', 'binding', 'speedup', 'metaprogramming', 'workload', 'opposed', 'pydoc', 'nonnumerical', 'gpt', 'nuke', 'repl', 'control', 'albeit', 'fellow', 'generic', 'integrated', 'window', 'dropped', 'typeclass', 'earliest', 'starting', 'pyramid', 'string', 'four', 'study', 'mean', 'commercial', 'running', 'steering', 'collecting', 'originally', 'fact', 'procedural', 'uncluttered', 'holder', 'rounding', 'active', 'highlevel', 'informatica', 'primary', 'material', 'distinguished', 'app', 'battery', 'list', 'compositor', 'intends', 'rossums', 'due', 'particular', 'attached', 'every', 'artificial', 'tutorial', 'responsibility', 'frequently', 'greatest', 'support', 'working', 'interfacing', 'validity', 'math', 'compiler', 'classmethodinstance', 'instagram', 'playful', 'spamclass', 'general', 'conducted', 'something', 'networking', 'shop', 'structural', 'june', 'catch', 'mypy', 'implementationsedit', 'capable', 'sourcesedit', 'wa', 'exponentiation', 'readingedit', 'completely', 'faster', 'described', 'thus', 'three', 'reference', 'erlang', 'generator', 'recursive', 'earlier', 'le', 'among', 'performance', 'pytorch', 'testing', 'syntactic', 'vision', 'container', 'includes', 'monty', 'upon', 'section', 'unary', 'java', 'sense', 'suited', 'benevolent', 'installers', 'forbidding', 'tcl', 'variant', 'implement', 'apple', 'block', 'pythonistas', 'help', 'influenced', 'attempting', 'differently', 'improvement', 'see', 'practice', 'aspect', 'arbitraryprecision', 'reject', 'knowledge', 'least', 'instancemethodargument', 'involving', 'reviewed', 'successfully', 'fixed', 'variable', 'web', 'valid', 'feature', 'elected', 'describe', 'houdini', 'pygtk', 'statement', 'union', 'child', 'laptop', 'diffusion', 'development', 'distributed', 'made', 'cover', 'imaging', 'capability', 'readevalprint', 'google', 'unicode', 'infix', 'develop', 'symbol', 'frustration', 'benchmark', 'currently', 'eg', 'negative', 'object', 'itertools', 'pyladies', 'highly', 'query', 'egg', 'comprehensive', 'however', 'webserver', 'include', 'literature', 'explicit', 'data', 'w', 'nevertheless', 'style', 'preview', 'dunder', 'wsgi', 'autocompletion', 'pro', 'fork', 'pascal', 'productive', 'metaobjects', 'ml', 'decisionmaker', 'began', 'presented', 'enjoyed', 'leverage', 'prefix', 'developed', 'chief', 'notebook', 'alsoedit', 'drop', 'phase', 'respectively', 'solaris', 'special', 'algebra', 'documentation', 'extending', 'cern', 'syntax', 'using', 'structured', 'clever', 'separate', 'eggsclass', 'red', 'smaller', 'freebsd', 'vitriol', 'rich', 'developing', 'native', 'december', 'immediately', 'mailing', 'framework', 'avoid', 'installer', 'provided', 'providing', 'natural', 'definite', 'developer', 'come', 'ending', 'lesscluttered', 'many', 'subset', 'covered', 'refers', 'ahead', 'nearest', 'termed', 'twisted', 'priority', 'versionseg', 'rule', 'enter', 'rational', 'choice', 'crosscompilers', 'value', 'released', 'facebook', 'empirical', 'geospatial', 'portage', 'tribute', 'raspberry', 'euroscipy', 'writing', 'swift', 'patch', 'slightly', 'firstclass', 'keyword', 'type', 'array', 'stable', 'shouldered', 'schedule', 'popularityedit', 'linksedit', 'mathrelated', 'claim', 'httpservercgihttprequesthandler', 'typing', 'conform', 'wsgiref', 'news', 'theory', 'part', 'dynamic', 'newstyle', 'follows', 'replace', 'readability', 'capablities', 'natlog', 'facilitate', 'cited', 'signifying', 'allows', 'revision', 'mypyc', 'command', 'go', 'pythonedit', 'wide', 'openbsd', 'processing', 'iterators', 'architecture', 'finite', 'regularly', 'bloat', 'optional', 'espoused', 'length', 'computing', 'modern', 'pypy', 'poisoning', 'mistaking', 'manipulation', 'internetfacing', 'approach', 'hosted', 'usually', 'operation', 'contract', 'foundation', 'lot', 'unixlike', 'terminal', 'allowing', 'amoeba', 'infinity', 'crossplatform', 'mercurial', 'calling', 'expressionsedit', 'referred', 'justintime', 'reasoning', 'module'}\n"
          ]
        }
      ]
    },
    {
      "cell_type": "code",
      "source": [
        "# Printing five words per line\n",
        "words_per_line = 10\n",
        "count = 0\n",
        "for word in unique_words:\n",
        "    print(word, end=' , ')\n",
        "    count += 1\n",
        "    if count % words_per_line == 0:\n",
        "        print()"
      ],
      "metadata": {
        "id": "7SmqbDkZRz2F",
        "colab": {
          "base_uri": "https://localhost:8080/"
        },
        "outputId": "6dc79b67-f9b6-4874-a554-9119a8c8d31e"
      },
      "execution_count": null,
      "outputs": [
        {
          "output_type": "stream",
          "name": "stdout",
          "text": [
            "represents , representation , developmentedit , speed , reflection , recent , forwardported , welldefined , noncritical , constructed , \n",
            "largely , roundup , design , functional , altering , zen , team , cinema , referencesedit , contains , \n",
            "input , generate , librariesedit , rigidly , implicit , fraction , dictionary , readable , advantage , singleboard , \n",
            "promotes , ajaxbased , tool , extends , beginneroriented , utility , allocated , name , application , repository , \n",
            "executed , garbagecollected , expression , pythonic , multiparadigm , fun , bara , define , always , reddit , \n",
            "pyjs , element , unintended , bug , scikitlearn , maintenance , surrounding , several , flowedit , motionbuilder , \n",
            "interpret , package , kera , execution , future , determined , modwsgi , release , might , platform , \n",
            "although , blender , setl , examplesedit , state , discussed , functools , time , mathematics , capella , \n",
            "strive , bottle , forum , recommended , strongly , matrixmultiplication , permanent , ironpython , modular , modeler , \n",
            "effect , february , bind , esri , large , decrease , computer , logic , backported , attack , \n",
            "oldest , transcription , prolog , protocol , tracker , typical , precedence , ready , division , use , \n",
            "restricted , x , major , group , range , since , level , towards , metasyntactic , unofficial , \n",
            "bab , lab , endoflife , july , machine , python , understand , floatingpoint , select , motto , \n",
            "community , various , denote , sketch , conditional , improved , gtk , case , ten , communication , \n",
            "simple , ides , arcgis , dynamically , never , canopy , database , handled , program , function , \n",
            "stack , classic , hello , much , gimp , predefined , creator , scipy , older , fedora , \n",
            "november , doubleunderscores , intellij , mostly , outdated , embrace , last , later , selected , linux , \n",
            "problog , set , guido , indentationedit , content , component , indent , lisp , operationsedit , fully , \n",
            "existing , removed , backwardcompatible , conceived , constraint , offer , historyedit , difficult , compliment , numpy , \n",
            "studio , project , github , text , plus , format , py , haskell , available , ctypes , \n",
            "highlighting , bar , webpy , pattern , duplicating , specialized , allow , functionality , pas , form , \n",
            "notation , denialofservice , lazy , combinatorial , summarized , visually , ship , organization , musical , cwi , \n",
            "silently , tornado , january , cycledetecting , supported , added , science , first , macos , printer , \n",
            "sagemath , marginal , fail , describing , comedy , cpython , unsupported , duck , session , pdoc , \n",
            "tkinter , extensively , clarity , migrated , mixture , boolean , annotation , could , public , increased , \n",
            "cpythons , handling , interpreter , announced , benchmarked , specific , compact , coding , retention , reflect , \n",
            "highest , tensorflow , answering , final , need , martelli , modularity , borrowed , idiom , netherlands , \n",
            "adopted , semicolon , round , evolved , commonly , clientside , abaqus , manner , proposing , intermediate , \n",
            "fails , matplotlib , typed , joining , routine , system , speedcritical , calculate , idle , achieve , \n",
            "manipulating , game , ha , usual , though , pythondev , main , relational , significant , aim , \n",
            "operating , show , conversion , scripting , resolution , browserbased , specified , doxygen , certain , may , \n",
            "produce , bracket , extensible , matching , factorial , possible , specificationsfor , gateway , proposal , api , \n",
            "entity , series , semantics , arbitrary , addition , notable , permitting , collector , incremented , combinatorics , \n",
            "information , memory , compiled , server , fewer , amigaos , environmentsedit , response , social , flask , \n",
            "inkscape , ability , external , accurately , potential , continues , despite , serve , search , proved , \n",
            "softimage , reporting , provider , council , guideline , qt , october , criticism , academic , translation , \n",
            "staticallytyped , traditional , performanceedit , selfhosted , tiebreaking , optimization , widespread , giving , literal , coroutinelike , \n",
            "connecting , domainspecific , following , included , bb , subsequently , allowed , suitable , violate , initially , \n",
            "resulting , script , preferably , untyped , biopython , example , fluency , according , spotify , soft , \n",
            "turbogears , product , pi , mime , mentoring , yahoo , rationale , derived , floor , remainder , \n",
            "inspired , official , rise , adding , sdl , different , equality , index , unnecessary , access , \n",
            "meeting , rather , certainty , scientific , resigned , webcache , desktop , zope , rewriting , complex , \n",
            "easily , condition , task , pypi , version , delayed , amazon , http , particularly , management , \n",
            "doe , compile , minimalist , languagesedit , emulated , moved , unrestricted , user , embedded , neologism , \n",
            "implementation , contain , nature , pygame , scorewriter , limited , anaconda , decimal , document , similarites , \n",
            "life , stemmed , methodsedit , error , paint , bestowed , namea , would , oftenused , source , \n",
            "rank , lightwave , world , took , passed , c , fix , significantly , whether , compiles , \n",
            "us , meant , outstanding , intelligence , garbage , graphviz , curly , line , exploit , culture , \n",
            "instead , behavior , offside , tiobe , centrum , concern , already , postponed , reflected , year , \n",
            "abc , lead , top , field , best , ide , delimit , semantic , gained , conference , \n",
            "lambda , exception , core , arithmetic , grammar , comprehension , calculus , punctuation , useful , dcgs , \n",
            "maya , rebound , texttotext , gnu , opposite , janus , programming , meaning , increase , others , \n",
            "engine , ubiquity , precision , featuresedit , objectoriented , programmable , cderived , bytecode , namingedit , aphorism , \n",
            "avoiding , industry , xp , language , xo , standard , alex , mode , size , issue , \n",
            "b , vacation , strength , process , monitor , ubuntu , related , update , space , even , \n",
            "true , modified , rating , consistently , pythonand , ipython , deprecated , read , emit , leading , \n",
            "keywords , modulo , implemented , beginning , test , ai , parameter , back , high , pyqt , \n",
            "commitment , new , interval , collection , internal , dropbox , wstr , astropy , multiple , extension , \n",
            "pseudorandom , prompt , ilm , indentation , metaclass , expressionso , dictator , django , mapper , security , \n",
            "libreoffice , mechanism , consumption , virtual , commented , sugar , probably , moving , interface , insecure , \n",
            "problem , shell , deprecationwarning , make , including , ruby , result , aid , evaluate , disallowed , \n",
            "loop , extensive , class , halfopen , gui , sole , roundawayfromzero , numerical , sequentially , received , \n",
            "provide , thirdparty , pylon , dalle , per , cause , self , whitespace , typingnamedtuple , place , \n",
            "method , u , ita , two , rough , syntactically , creating , normal , lie , ie , \n",
            "cost , argument , suite , title , aspectoriented , positive , experimental , requiring , unlike , emphasizes , \n",
            "regular , sometimes , implementationedit , vms , spam , beta , comparison , paradigm , tradition , oneobvious , \n",
            "wikipedia , premature , effective , called , philosophy , library , crosscompile , like , learning , releasecandidates , \n",
            "site , semanticsedit , typingedit , combination , instance , author , idea , freecad , occasionally , foo , \n",
            "tail , nasa , clause , ab , controversial , way , building , fivemember , match , rarely , \n",
            "end , compared , documenting , apache , texttoimage , distribution , term , compilerstranspilers , pycharm , sqlalchemy , \n",
            "better , pythonanywhere , automates , userdefined , pycon , structure , alpha , usesedit , ranked , video , \n",
            "message , generalpurpose , decision , expedited , consistent , body , changed , perls , considered , common , \n",
            "image , code , british , oldstyle , gentoo , well , unidirectionally , distinction , generatorsedit , userprogramming , \n",
            "work , visual , van , officially , environment , formatting , unit , pretty , represent , scheme , \n",
            "small , deliberately , integer , sphinx , remote , enhancement , software , book , doesnt , contrast , \n",
            "sourcecode , operator , latest , opencv , popular , emphasizing , install , change , continuation , max , \n",
            "twice , done , worse , possibly , oneand , emphasis , also , consistency , rossum , portability , \n",
            "parametric , via , methodology , debugger , conventional , modo , graphical , number , simpler , wrote , \n",
            "provides , call , create , appear , found , equation , modify , hosting , kind , programmer , \n",
            "filtermapandreduce , etc , typingin , discussion , another , wiskunde , mac , assignment , add , checked , \n",
            "full , simply , signifies , corresponds , enforced , maintaining , without , netbsd , unpythonic , expected , \n",
            "generating , relation , either , receive , designed , one , late , longterm , often , written , \n",
            "similar , english , current , objectivec , scribus , used , principle , september , counting , animation , \n",
            "reaching , pep , hat , successor , float , binding , speedup , metaprogramming , workload , opposed , \n",
            "pydoc , nonnumerical , gpt , nuke , repl , control , albeit , fellow , generic , integrated , \n",
            "window , dropped , typeclass , earliest , starting , pyramid , string , four , study , mean , \n",
            "commercial , running , steering , collecting , originally , fact , procedural , uncluttered , holder , rounding , \n",
            "active , highlevel , informatica , primary , material , distinguished , app , battery , list , compositor , \n",
            "intends , rossums , due , particular , attached , every , artificial , tutorial , responsibility , frequently , \n",
            "greatest , support , working , interfacing , validity , math , compiler , classmethodinstance , instagram , playful , \n",
            "spamclass , general , conducted , something , networking , shop , structural , june , catch , mypy , \n",
            "implementationsedit , capable , sourcesedit , wa , exponentiation , readingedit , completely , faster , described , thus , \n",
            "three , reference , erlang , generator , recursive , earlier , le , among , performance , pytorch , \n",
            "testing , syntactic , vision , container , includes , monty , upon , section , unary , java , \n",
            "sense , suited , benevolent , installers , forbidding , tcl , variant , implement , apple , block , \n",
            "pythonistas , help , influenced , attempting , differently , improvement , see , practice , aspect , arbitraryprecision , \n",
            "reject , knowledge , least , instancemethodargument , involving , reviewed , successfully , fixed , variable , web , \n",
            "valid , feature , elected , describe , houdini , pygtk , statement , union , child , laptop , \n",
            "diffusion , development , distributed , made , cover , imaging , capability , readevalprint , google , unicode , \n",
            "infix , develop , symbol , frustration , benchmark , currently , eg , negative , object , itertools , \n",
            "pyladies , highly , query , egg , comprehensive , however , webserver , include , literature , explicit , \n",
            "data , w , nevertheless , style , preview , dunder , wsgi , autocompletion , pro , fork , \n",
            "pascal , productive , metaobjects , ml , decisionmaker , began , presented , enjoyed , leverage , prefix , \n",
            "developed , chief , notebook , alsoedit , drop , phase , respectively , solaris , special , algebra , \n",
            "documentation , extending , cern , syntax , using , structured , clever , separate , eggsclass , red , \n",
            "smaller , freebsd , vitriol , rich , developing , native , december , immediately , mailing , framework , \n",
            "avoid , installer , provided , providing , natural , definite , developer , come , ending , lesscluttered , \n",
            "many , subset , covered , refers , ahead , nearest , termed , twisted , priority , versionseg , \n",
            "rule , enter , rational , choice , crosscompilers , value , released , facebook , empirical , geospatial , \n",
            "portage , tribute , raspberry , euroscipy , writing , swift , patch , slightly , firstclass , keyword , \n",
            "type , array , stable , shouldered , schedule , popularityedit , linksedit , mathrelated , claim , httpservercgihttprequesthandler , \n",
            "typing , conform , wsgiref , news , theory , part , dynamic , newstyle , follows , replace , \n",
            "readability , capablities , natlog , facilitate , cited , signifying , allows , revision , mypyc , command , \n",
            "go , pythonedit , wide , openbsd , processing , iterators , architecture , finite , regularly , bloat , \n",
            "optional , espoused , length , computing , modern , pypy , poisoning , mistaking , manipulation , internetfacing , \n",
            "approach , hosted , usually , operation , contract , foundation , lot , unixlike , terminal , allowing , \n",
            "amoeba , infinity , crossplatform , mercurial , calling , expressionsedit , referred , justintime , reasoning , module , \n"
          ]
        }
      ]
    },
    {
      "cell_type": "code",
      "source": [
        "for word in unique_words:\n",
        "  if (len(word) < 3):\n",
        "    print(word)"
      ],
      "metadata": {
        "colab": {
          "base_uri": "https://localhost:8080/"
        },
        "id": "NaYURB4deHIm",
        "outputId": "285c70d4-a6de-437e-9fb2-0d5220dae519"
      },
      "execution_count": null,
      "outputs": [
        {
          "output_type": "stream",
          "name": "stdout",
          "text": [
            "x\n",
            "py\n",
            "ha\n",
            "qt\n",
            "bb\n",
            "pi\n",
            "c\n",
            "us\n",
            "xp\n",
            "xo\n",
            "b\n",
            "ai\n",
            "u\n",
            "ie\n",
            "ab\n",
            "wa\n",
            "le\n",
            "eg\n",
            "w\n",
            "ml\n",
            "go\n"
          ]
        }
      ]
    }
  ]
}