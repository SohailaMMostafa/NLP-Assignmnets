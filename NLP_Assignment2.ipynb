{
  "nbformat": 4,
  "nbformat_minor": 0,
  "metadata": {
    "colab": {
      "provenance": []
    },
    "kernelspec": {
      "name": "python3",
      "display_name": "Python 3"
    },
    "language_info": {
      "name": "python"
    }
  },
  "cells": [
    {
      "cell_type": "code",
      "source": [
        "# !pip install transformers\n",
        "\n",
        "from transformers import pipeline\n",
        "import os\n",
        "import string\n",
        "import spacy\n",
        "import numpy as np\n",
        "from tabulate import tabulate"
      ],
      "metadata": {
        "id": "vc6gIR0UhDdf"
      },
      "execution_count": null,
      "outputs": []
    },
    {
      "cell_type": "code",
      "source": [
        "# !pip install nltk\n",
        "import nltk\n",
        "nltk.download('punkt')\n",
        "nltk.download('stopwords')\n",
        "nltk.download('wordnet')"
      ],
      "metadata": {
        "colab": {
          "base_uri": "https://localhost:8080/"
        },
        "id": "OdakHxrM5cUO",
        "outputId": "ae767286-17c6-40fa-978f-00b6c6f256a9"
      },
      "execution_count": null,
      "outputs": [
        {
          "output_type": "stream",
          "name": "stderr",
          "text": [
            "[nltk_data] Downloading package punkt to /root/nltk_data...\n",
            "[nltk_data]   Unzipping tokenizers/punkt.zip.\n",
            "[nltk_data] Downloading package stopwords to /root/nltk_data...\n",
            "[nltk_data]   Unzipping corpora/stopwords.zip.\n",
            "[nltk_data] Downloading package wordnet to /root/nltk_data...\n"
          ]
        },
        {
          "output_type": "execute_result",
          "data": {
            "text/plain": [
              "True"
            ]
          },
          "metadata": {},
          "execution_count": 2
        }
      ]
    },
    {
      "cell_type": "code",
      "source": [
        "from nltk.tokenize import word_tokenize\n",
        "from nltk.corpus import stopwords\n",
        "from nltk.stem import WordNetLemmatizer"
      ],
      "metadata": {
        "id": "bSqiu_-X5hoO"
      },
      "execution_count": null,
      "outputs": []
    },
    {
      "cell_type": "code",
      "source": [
        "# Load spaCy English model\n",
        "nlp = spacy.load('en_core_web_sm')"
      ],
      "metadata": {
        "id": "q86JFzQLxH8_"
      },
      "execution_count": null,
      "outputs": []
    },
    {
      "cell_type": "code",
      "source": [
        "# # Load the text generation pipeline with the specified model\n",
        "# gen = pipeline('text-generation', model='EleutherAI/gpt-neo-2.7B')\n",
        "\n",
        "# def write_prompt_to_file(prompt, filename):\n",
        "#     with open(filename, 'w') as file:\n",
        "#         file.write(prompt)\n",
        "\n",
        "# def generate_document(prompt_files, num_phrases):\n",
        "#     for prompt_file in prompt_files:\n",
        "#         with open(prompt_file, 'r') as file:\n",
        "#             prompt = file.read().strip()\n",
        "\n",
        "#         output_file = os.path.splitext(prompt_file)[0] + '_generated.txt'\n",
        "#         with open(output_file, 'w') as file:\n",
        "#             generated_text = gen(prompt, max_length=50, num_return_sequences=num_phrases)\n",
        "#             for i, text in enumerate(generated_text):\n",
        "#                 # Write only the generated text to the file\n",
        "#                 file.write(f\"{text['generated_text']}\\n\\n\")\n",
        "\n",
        "\n",
        "# # Directory to store prompt files\n",
        "# prompt_dir = \"prompts\"\n",
        "# # Number of phrases to generate for each prompt\n",
        "# num_phrases = 10\n",
        "\n",
        "# # Ensure the prompt directory exists\n",
        "# if not os.path.exists(prompt_dir):\n",
        "#   os.makedirs(prompt_dir)\n",
        "\n",
        "# # List of prompts\n",
        "# prompts = [\"Machine Learning\", \"Smart Agiricluture\", \"Smart cities\"]\n",
        "\n",
        "# # Write each prompt to a separate file\n",
        "# prompt_files = []\n",
        "# for i, prompt in enumerate(prompts):\n",
        "#   filename = os.path.join(prompt_dir, f\"prompt_{i+1}.txt\")\n",
        "#   write_prompt_to_file(prompt, filename)\n",
        "#   prompt_files.append(filename)\n",
        "\n",
        "# # Generate documents based on the prompts\n",
        "# generate_document(prompt_files, num_phrases)\n",
        "# print(\"Documents generated successfully.\")"
      ],
      "metadata": {
        "id": "fU9mJYgfPcML"
      },
      "execution_count": null,
      "outputs": []
    },
    {
      "cell_type": "code",
      "source": [
        "# Function to clean data from symbols and characters\n",
        "def clean_data(text):\n",
        "    # Remove punctuation\n",
        "    cleaned_text = text.translate(str.maketrans('', '', string.punctuation))\n",
        "    # Remove extra spaces\n",
        "    cleaned_text = ' '.join(cleaned_text.split())\n",
        "    return cleaned_text\n"
      ],
      "metadata": {
        "id": "nFew59FbPcOa"
      },
      "execution_count": null,
      "outputs": []
    },
    {
      "cell_type": "code",
      "source": [
        "# Function for tokenization using NLTK\n",
        "def tokenize(text):\n",
        "    tokens = word_tokenize(text)\n",
        "    return tokens"
      ],
      "metadata": {
        "id": "rgCzxv9IPcQ0"
      },
      "execution_count": null,
      "outputs": []
    },
    {
      "cell_type": "code",
      "source": [
        "# Function for lemmatization using NLTK\n",
        "def lemmatize(tokens):\n",
        "    lemmatizer = WordNetLemmatizer()\n",
        "    lemmatized_tokens = [lemmatizer.lemmatize(token) for token in tokens]\n",
        "    return lemmatized_tokens"
      ],
      "metadata": {
        "id": "o0hVaE7exSnf"
      },
      "execution_count": null,
      "outputs": []
    },
    {
      "cell_type": "code",
      "source": [
        "# Function to remove stop words using NLTK\n",
        "def remove_stopwords(tokens):\n",
        "    stop_words = set(stopwords.words('english'))\n",
        "    filtered_tokens = [token for token in tokens if token.lower() not in stop_words]\n",
        "    return filtered_tokens"
      ],
      "metadata": {
        "id": "4GbZFlGaxSp4"
      },
      "execution_count": null,
      "outputs": []
    },
    {
      "cell_type": "code",
      "source": [
        "# Function to extract unique words\n",
        "def get_unique_words(tokens):\n",
        "    unique_words = set(tokens)\n",
        "    return unique_words"
      ],
      "metadata": {
        "id": "_tT2OK4nxSsE"
      },
      "execution_count": null,
      "outputs": []
    },
    {
      "cell_type": "code",
      "source": [
        "# Function to compute TF\n",
        "def compute_tf(tokens):\n",
        "    word_count = len(tokens)\n",
        "    tf_dict = {}\n",
        "    for word in tokens:\n",
        "        tf_dict[word] = tf_dict.get(word, 0) + 1\n",
        "    for word, count in tf_dict.items():\n",
        "        tf_dict[word] = count / word_count\n",
        "    return tf_dict"
      ],
      "metadata": {
        "id": "uAHJq1dp8oGL"
      },
      "execution_count": null,
      "outputs": []
    },
    {
      "cell_type": "code",
      "source": [
        "# Function to compute IDF\n",
        "def compute_idf(docs):\n",
        "    word_doc_count = {}\n",
        "    for doc in docs:\n",
        "        unique_words = set(doc)\n",
        "        for word in unique_words:\n",
        "            word_doc_count[word] = word_doc_count.get(word, 0) + 1\n",
        "    num_docs = len(docs)\n",
        "    idf_dict = {}\n",
        "    for word, doc_count in word_doc_count.items():\n",
        "        idf_dict[word] = np.log((num_docs + 1) / (doc_count + 1)) + 1\n",
        "    return idf_dict"
      ],
      "metadata": {
        "id": "K7p8CqV-8oQ-"
      },
      "execution_count": null,
      "outputs": []
    },
    {
      "cell_type": "code",
      "source": [
        "# Function to compute TF-IDF\n",
        "def compute_tfidf(tf_dicts, idf_dict):\n",
        "    tfidf_matrix = []\n",
        "    for tf_dict in tf_dicts:\n",
        "        tfidf_vector = {}\n",
        "        for word, tf in tf_dict.items():\n",
        "            tfidf = tf * idf_dict.get(word, 0)\n",
        "            tfidf_vector[word] = tfidf\n",
        "        tfidf_matrix.append(tfidf_vector)\n",
        "    return tfidf_matrix"
      ],
      "metadata": {
        "id": "ul5Aag4A8oZn"
      },
      "execution_count": null,
      "outputs": []
    },
    {
      "cell_type": "code",
      "source": [
        "def normalize_tfidf(tfidf_matrix):\n",
        "    normalized_tfidf_matrix = []\n",
        "    for tfidf_vector in tfidf_matrix:\n",
        "        # Compute L2 norm of the TF-IDF vector\n",
        "        norm = np.linalg.norm(list(tfidf_vector.values()), ord=2)\n",
        "        # Normalize each TF-IDF value by dividing by the norm\n",
        "        normalized_tfidf_vector = {word: tfidf_value / norm for word, tfidf_value in tfidf_vector.items()}\n",
        "        normalized_tfidf_matrix.append(normalized_tfidf_vector)\n",
        "    return normalized_tfidf_matrix"
      ],
      "metadata": {
        "id": "I-ZxKAjIMvNw"
      },
      "execution_count": null,
      "outputs": []
    },
    {
      "cell_type": "code",
      "source": [
        "# Modify process_prompts function to use normalized TF-IDF\n",
        "def process_prompts(prompt_files):\n",
        "    docs = []\n",
        "    tf_dicts = []\n",
        "    for prompt_file in prompt_files:\n",
        "        with open(prompt_file, 'r') as file:\n",
        "            prompt = file.read().strip()\n",
        "\n",
        "        # Step 1: Cleaning data\n",
        "        cleaned_prompt = clean_data(prompt)\n",
        "\n",
        "        # Step 2: Normalization (converting to lowercase)\n",
        "        normalized_prompt = cleaned_prompt.lower()\n",
        "\n",
        "        # Step 3: Tokenization\n",
        "        tokens = tokenize(normalized_prompt)\n",
        "\n",
        "        # Step 4: Lemmatization\n",
        "        lemmatized_tokens = lemmatize(tokens)\n",
        "\n",
        "        # Step 5: Remove stop words\n",
        "        filtered_tokens = remove_stopwords(lemmatized_tokens)\n",
        "\n",
        "        # Get unique words\n",
        "        unique_words = get_unique_words(filtered_tokens)\n",
        "\n",
        "        # Compute TF\n",
        "        tf_dict = compute_tf(filtered_tokens)\n",
        "        tf_dicts.append(tf_dict)\n",
        "\n",
        "        # Add document to docs\n",
        "        docs.append(filtered_tokens)\n",
        "\n",
        "        # Print or use the processed prompt and its unique words as needed\n",
        "        print(f\"Unique words: {unique_words}\")\n",
        "        print()\n",
        "\n",
        "    # Compute IDF\n",
        "    idf_dict = compute_idf(docs)\n",
        "\n",
        "    # Compute TF-IDF\n",
        "    tfidf_matrix = compute_tfidf(tf_dicts, idf_dict)\n",
        "\n",
        "    # Normalize TF-IDF\n",
        "    normalized_tfidf_matrix = normalize_tfidf(tfidf_matrix)\n",
        "\n",
        "    table_data = []\n",
        "    header = [\"Document\"] + sorted(list(unique_words))\n",
        "    for i, normalized_tfidf_vector in enumerate(normalized_tfidf_matrix):\n",
        "        row = [f\"Document {i+1}\"]\n",
        "        for word in sorted(list(unique_words)):\n",
        "            row.append(f\"{normalized_tfidf_vector.get(word, 0):.3f}\")\n",
        "        table_data.append(row)\n",
        "\n",
        "    print(\"Normalized TF-IDF Matrix (Document * Word):\")\n",
        "    print(tabulate(table_data, headers=header, tablefmt=\"grid\"))"
      ],
      "metadata": {
        "id": "MC8wfeMKxSuW"
      },
      "execution_count": null,
      "outputs": []
    },
    {
      "cell_type": "code",
      "source": [
        "# Directory containing prompt files\n",
        "prompt_dir = \"/content/data\"\n",
        "\n",
        "# Get list of prompt files\n",
        "prompt_files = [os.path.join(prompt_dir, file) for file in os.listdir(prompt_dir) if file.endswith('.txt')]\n",
        "\n",
        "# Process each prompt\n",
        "processed_prompts = process_prompts(prompt_files)"
      ],
      "metadata": {
        "colab": {
          "base_uri": "https://localhost:8080/"
        },
        "id": "tcnEKJzixSxx",
        "outputId": "dc4a34fc-e838-4b06-b9d8-3cf4f503efdf"
      },
      "execution_count": null,
      "outputs": [
        {
          "output_type": "stream",
          "name": "stdout",
          "text": [
            "Unique words: {'population', 'focus', '”', 'reduce', 'one', 'every', 'case', 'easy', 'problem', 'extent', 'leveraging', 'career', 'challenge', 'created', 'big', 'ha', 'detroit', 'growth', 'topic', 'around', 'continue', 'often', 'may', 'got', 'rising', 'conversation', 'let', 'experienced', 'smart', 'also', 'global', 'attribute', 'understand', 'burdened', 'weve', 'show', 'ottawa', 'interesting', 'lot', 'care', 'actively', 'environment', '—', 'developed', 'future', 'facing', 'key', 'exemplar', 'meet', 'hand', 'shift', 'healthier', 'sustainable', 'approach', 'etc', 'idea', 'energy', 'used', 'impact', '5', 'sharing', 'many', 'pressure', 'define', 'make', '“', 'group', 'enlivened', 'definition', 'extensively', 'site', 'place', '1980s', 'destiny', 'time', 'tough', 'research', 'concept', 'embrace', 'designer', 'barrier', '‘', 'always', 'mixed', 'international', 'order', 'people', 'find', 'term', 'dilemma', 'city', 'value', 'river', 'economy', 'known', 'despite', 'buzz', 'resident', 'past', 'range', 'data', 'business', '–', 'put', 'planned', 'medium', 'described', 'major', 'effort', 'local', 'emerging', 'community', 'discussed', 'thing', '’', 'social', 'road', 'vibrant', 'disadvantaged', 'already', 'cost', 'cultural', 'way', 'noticed', 'technology', 'light', 'urban', 'overindebtedness', 'three', 'think', 'centre', 'fully', 'physical', 'element', 'rise', 'shaping', 'result', 'street', 'label', 'wa', 'need', 'still', 'work', 'development', 'indicates', 'environmental', 'citysolutions', 'initiative', 'world', 'construction', 'building', 'increasingly', 'break'}\n",
            "\n",
            "Unique words: {'computer', 'face', 'one', 'reduce', 'hotness', 'youre', 'june', 'well', 'intelligence', 'model', 'august', 'facebook', 'problem', 'new', 'science', 'two', 'blog', 'real', 'challenge', 'solve', 'ha', 'ml', 'meant', 'ability', 'growth', 'together', 'topic', 'long', 'learning', 'article', 'got', 'forecast', 'automation', 'algorithm', 'engineer', 'using', 'system', 'website', 'software', 'art', 'historical', 'show', 'ai', 'interesting', 'see', 'v', 'like', 'designed', 'configure', 'install', 'part', 'future', 'accurate', 'speech', 'teach', 'used', 'neural', 'doesnt', 'many', 'aware', 'note', 'mining', 'enterprise', 'moment', 'event', '2013', 'taught', 'news', 'research', 'scienceart', 'state', 'branch', 'class', 'learn', 'always', 'machine', 'updated', 'paper', 'industry', 'developing', 'hot', 'usually', 'wide', 'concerned', 'value', 'text', 'academia', 'based', 'product', 'start', 'buzz', 'mit', 'framework', 'personal', 'range', 'data', 'next', 'subject', 'provide', 'speed', 'monthly', 'discussion', 'mqi', 'solved', 'security', 'statistical', 'increase', 'train', 'use', 'thought', 'community', 'acted', 'mean', 'output', 'discussed', 'thing', '’', 'within', 'stanford', 'information', 'even', 'subset', 'explosive', 'image', 'take', 'course', 'provides', 'engineering', 'andor', 'review', 'discover', 'seems', 'quite', 'technology', 'archive', 'commentary', 'artificial', 'deeply', 'deep', 'evolution', 'beneficial', 'broader', 'field', 'rapid', 'computational', 'input', 'analyzed', 'go', 'classification', 'improve', 'focused', 'predict', 'look', 'need', 'work', 'internet', 'error', '2015', 'world', 'network', 'volume', 'called', 'recognition', 'overview'}\n",
            "\n",
            "Unique words: {'agiricluture™', 'gentle', 'one', 'birth', 'providing', 'legal', 'number', 'new', '3m', '2006', 'forum', 'closure', 'repessions', 'fulgham', 'big', 'ha', 'income', 'highest', 'football', 'around', 'loss', 'vulnerable', 'st', 'paul', 'could', 'smart', 'doe', 'answer', 'reason', 'men', 'system', 'orthopaedics', 'ethicon', 'modern', 'welcome', 'gently', 'like', 'designed', 'comfort', 'device', 'deliver', 'gold', 'college', 'gift', 'part', 'similar', 'woman', 'ritual', 'user', 'neck', 'muslim', 'used', 'short', 'regulation', 'lead', 'great', 'computergenerated', 'define', 'know', 'residence', 'rational', 'nepal', 'old', 'success', 'thank', 'general', 'structure', 'roy', 'g', 'department', 'trained', 'surgery', 'give', 'avoid', '10', 'concept', 'state', 'form', 'mother', 'therapeutic', 'execution', 'fly', 'boy', 'agiricluturel', 'inspired', 'medicine', 'business', 'movement', 'tribhuvan', 'ent', 'university', 'benefit', 'mn', 'discussion', 'would', 'november', 'must', 'medical', 'bit', 'nj', 'religion', 'fashion', 'agitrack®', 'agrawalamit', 'fine', 'degree', 'wound', 'local', 'soft', 'robert', 'saturday', 'level', 'rule', 'cradle', 'within', 'plan', 'member', 'ethibond™', 'unnecessary', 'realize', 'behind', 'ancient', 'going', 'provides', 'series', 'stand', 'question', 'tana', 'way', 'category', 'stripe', 'technology', 'sani', 'wise', 'story', 'green', 'three', 'first', 'agiricluturets', 'neurosurgery', 'seen', 'agoristatic', 'physical', 'guide', 'rapid', 'suturing', 'trouble', 'action', 'close', 'agiricluture', 'wa', 'need', 'young', 'support', 'necklace', 'somerville', 'material', 'christian', 'man'}\n",
            "\n",
            "Normalized TF-IDF Matrix (Document * Word):\n",
            "+------------+-------+--------+-------+----------+----------------+-----------------+------------------+-----------------+-------------+---------------+---------------+-----------+----------+----------+---------+----------+-----------+-------+---------+-------+-------+------------+------------+-------------+---------+-----------+-----------+-----------+---------------------+-----------+---------+----------+----------+----------+-----------+--------------+------------+----------+--------------+-------+-------+-------------+-----------+-------------+-----------+--------+---------+-------+------------+--------+---------+-----------+-------+-----------+----------+----------+--------+--------+---------+--------+---------+---------+---------+-------+-----------+----------+------------+--------+--------+---------+---------+--------+---------+--------+-------+------------+-----------+------------+----------+-------+-------+----------+----------+------------+----------+--------+--------+------------+--------+---------+----------------+-------+-------+------------+----------+-------+-------+----------------+--------+--------+------------+--------+------------+-------------+------------+---------+------------+-----------+----------+--------------+------------+--------------+-------------+----------+----------+-------+--------+--------+------------+--------+----------+---------+-----------+---------+--------+--------------+-------+---------+---------+---------+----------+-------------+-----------+-----------+-----------+------------+----------+--------+--------------+---------+---------------+---------+-----------+-------------+-----------+--------------+---------------+--------+--------+--------------+-------+-------+-----------+--------+----------+---------+---------+---------+---------+\n",
            "| Document   |    10 |   2006 |    3m |   action |   agiricluture |   agiricluturel |   agiricluturets |   agiricluture™ |   agitrack® |   agoristatic |   agrawalamit |   ancient |   answer |   around |   avoid |   behind |   benefit |   big |   birth |   bit |   boy |   business |   category |   christian |   close |   closure |   college |   comfort |   computergenerated |   concept |   could |   cradle |   define |   degree |   deliver |   department |   designed |   device |   discussion |   doe |   ent |   ethibond™ |   ethicon |   execution |   fashion |   fine |   first |   fly |   football |   form |   forum |   fulgham |     g |   general |   gentle |   gently |   gift |   give |   going |   gold |   great |   green |   guide |    ha |   highest |   income |   inspired |   know |   lead |   legal |   level |   like |   local |   loss |   man |   material |   medical |   medicine |   member |   men |    mn |   modern |   mother |   movement |   muslim |   must |   neck |   necklace |   need |   nepal |   neurosurgery |   new |    nj |   november |   number |   old |   one |   orthopaedics |   part |   paul |   physical |   plan |   provides |   providing |   question |   rapid |   rational |   realize |   reason |   regulation |   religion |   repessions |   residence |   ritual |   robert |   roy |   rule |   sani |   saturday |   seen |   series |   short |   similar |   smart |   soft |   somerville |    st |   stand |   state |   story |   stripe |   structure |   success |   support |   surgery |   suturing |   system |   tana |   technology |   thank |   therapeutic |   three |   trained |   tribhuvan |   trouble |   university |   unnecessary |   used |   user |   vulnerable |    wa |   way |   welcome |   wise |   within |   woman |   would |   wound |   young |\n",
            "+============+=======+========+=======+==========+================+=================+==================+=================+=============+===============+===============+===========+==========+==========+=========+==========+===========+=======+=========+=======+=======+============+============+=============+=========+===========+===========+===========+=====================+===========+=========+==========+==========+==========+===========+==============+============+==========+==============+=======+=======+=============+===========+=============+===========+========+=========+=======+============+========+=========+===========+=======+===========+==========+==========+========+========+=========+========+=========+=========+=========+=======+===========+==========+============+========+========+=========+=========+========+=========+========+=======+============+===========+============+==========+=======+=======+==========+==========+============+==========+========+========+============+========+=========+================+=======+=======+============+==========+=======+=======+================+========+========+============+========+============+=============+============+=========+============+===========+==========+==============+============+==============+=============+==========+==========+=======+========+========+============+========+==========+=========+===========+=========+========+==============+=======+=========+=========+=========+==========+=============+===========+===========+===========+============+==========+========+==============+=========+===============+=========+===========+=============+===========+==============+===============+========+========+==============+=======+=======+===========+========+==========+=========+=========+=========+=========+\n",
            "| Document 1 | 0     |  0     | 0     |    0     |          0     |           0     |            0     |           0     |       0     |         0     |         0     |     0     |    0     |    0.028 |   0     |    0     |     0     | 0.028 |   0     | 0     | 0     |      0.028 |      0     |       0     |   0     |     0     |     0     |     0     |               0     |     0.056 |   0     |    0     |    0.028 |    0     |     0     |        0     |      0     |    0     |        0     | 0     | 0     |       0     |     0     |       0     |     0     |  0     |   0     | 0     |      0     |  0     |   0     |     0     | 0     |     0     |    0     |    0     |  0     |  0     |   0     |  0     |   0     |   0     |   0     | 0.043 |     0     |    0     |      0     |  0     |  0     |   0     |   0     |  0     |   0.028 |  0     | 0     |      0     |     0     |      0     |    0     | 0     | 0     |    0     |    0     |      0     |    0     |  0     |  0     |      0     |  0.065 |   0     |          0     | 0     | 0     |      0     |    0     | 0     | 0.087 |          0     |  0     |  0     |      0.056 |  0     |      0     |       0     |      0     |   0     |      0     |     0     |    0     |        0     |      0     |        0     |       0     |    0     |    0     | 0     |  0     |  0     |      0     |  0     |    0     |   0     |     0     |   0.418 |  0     |        0     | 0     |   0     |   0     |   0     |    0     |       0     |     0     |     0     |     0     |      0     |    0     |  0     |        0.022 |   0     |         0     |   0.028 |     0     |       0     |     0     |        0     |         0     |  0.022 |  0     |        0     | 0.028 | 0.028 |     0     |  0     |    0     |   0     |   0     |   0     |   0     |\n",
            "+------------+-------+--------+-------+----------+----------------+-----------------+------------------+-----------------+-------------+---------------+---------------+-----------+----------+----------+---------+----------+-----------+-------+---------+-------+-------+------------+------------+-------------+---------+-----------+-----------+-----------+---------------------+-----------+---------+----------+----------+----------+-----------+--------------+------------+----------+--------------+-------+-------+-------------+-----------+-------------+-----------+--------+---------+-------+------------+--------+---------+-----------+-------+-----------+----------+----------+--------+--------+---------+--------+---------+---------+---------+-------+-----------+----------+------------+--------+--------+---------+---------+--------+---------+--------+-------+------------+-----------+------------+----------+-------+-------+----------+----------+------------+----------+--------+--------+------------+--------+---------+----------------+-------+-------+------------+----------+-------+-------+----------------+--------+--------+------------+--------+------------+-------------+------------+---------+------------+-----------+----------+--------------+------------+--------------+-------------+----------+----------+-------+--------+--------+------------+--------+----------+---------+-----------+---------+--------+--------------+-------+---------+---------+---------+----------+-------------+-----------+-----------+-----------+------------+----------+--------+--------------+---------+---------------+---------+-----------+-------------+-----------+--------------+---------------+--------+--------+--------------+-------+-------+-----------+--------+----------+---------+---------+---------+---------+\n",
            "| Document 2 | 0     |  0     | 0     |    0     |          0     |           0     |            0     |           0     |       0     |         0     |         0     |     0     |    0     |    0     |   0     |    0     |     0     | 0     |   0     | 0     | 0     |      0     |      0     |       0     |   0     |     0     |     0     |     0     |               0     |     0     |   0     |    0     |    0     |    0     |     0     |        0     |      0.022 |    0     |        0.022 | 0     | 0     |       0     |     0     |       0     |     0     |  0     |   0     | 0     |      0     |  0     |   0     |     0     | 0     |     0     |    0     |    0     |  0     |  0     |   0     |  0     |   0     |   0     |   0     | 0.035 |     0     |    0     |      0     |  0     |  0     |   0     |   0     |  0.045 |   0     |  0     | 0     |      0     |     0     |      0     |    0     | 0     | 0     |    0     |    0     |      0     |    0     |  0     |  0     |      0     |  0.017 |   0     |          0     | 0.112 | 0     |      0     |    0     | 0     | 0.017 |          0     |  0.022 |  0     |      0     |  0     |      0.022 |       0     |      0     |   0.022 |      0     |     0     |    0     |        0     |      0     |        0     |       0     |    0     |    0     | 0     |  0     |  0     |      0     |  0     |    0     |   0     |     0     |   0     |  0     |        0     | 0     |   0     |   0.022 |   0     |    0     |       0     |     0     |     0     |     0     |      0     |    0.067 |  0     |        0.017 |   0     |         0     |   0     |     0     |       0     |     0     |        0     |         0     |  0.052 |  0     |        0     | 0     | 0     |     0     |  0     |    0.022 |   0     |   0     |   0     |   0     |\n",
            "+------------+-------+--------+-------+----------+----------------+-----------------+------------------+-----------------+-------------+---------------+---------------+-----------+----------+----------+---------+----------+-----------+-------+---------+-------+-------+------------+------------+-------------+---------+-----------+-----------+-----------+---------------------+-----------+---------+----------+----------+----------+-----------+--------------+------------+----------+--------------+-------+-------+-------------+-----------+-------------+-----------+--------+---------+-------+------------+--------+---------+-----------+-------+-----------+----------+----------+--------+--------+---------+--------+---------+---------+---------+-------+-----------+----------+------------+--------+--------+---------+---------+--------+---------+--------+-------+------------+-----------+------------+----------+-------+-------+----------+----------+------------+----------+--------+--------+------------+--------+---------+----------------+-------+-------+------------+----------+-------+-------+----------------+--------+--------+------------+--------+------------+-------------+------------+---------+------------+-----------+----------+--------------+------------+--------------+-------------+----------+----------+-------+--------+--------+------------+--------+----------+---------+-----------+---------+--------+--------------+-------+---------+---------+---------+----------+-------------+-----------+-----------+-----------+------------+----------+--------+--------------+---------+---------------+---------+-----------+-------------+-----------+--------------+---------------+--------+--------+--------------+-------+-------+-----------+--------+----------+---------+---------+---------+---------+\n",
            "| Document 3 | 0.051 |  0.051 | 0.051 |    0.051 |          0.458 |           0.102 |            0.051 |           0.051 |       0.051 |         0.051 |         0.051 |     0.051 |    0.102 |    0.039 |   0.051 |    0.051 |     0.051 | 0.039 |   0.051 | 0.051 | 0.051 |      0.039 |      0.051 |       0.051 |   0.051 |     0.051 |     0.102 |     0.051 |               0.051 |     0.039 |   0.051 |    0.051 |    0.039 |    0.051 |     0.051 |        0.051 |      0.077 |    0.051 |        0.039 | 0.051 | 0.051 |       0.051 |     0.051 |       0.051 |     0.051 |  0.051 |   0.102 | 0.051 |      0.051 |  0.051 |   0.051 |     0.051 | 0.051 |     0.102 |    0.051 |    0.051 |  0.102 |  0.051 |   0.051 |  0.051 |   0.102 |   0.051 |   0.051 | 0.03  |     0.102 |    0.051 |      0.051 |  0.051 |  0.051 |   0.051 |   0.051 |  0.039 |   0.039 |  0.051 | 0.051 |      0.051 |     0.102 |      0.051 |    0.203 | 0.051 | 0.051 |    0.051 |    0.051 |      0.051 |    0.051 |  0.051 |  0.051 |      0.051 |  0.03  |   0.051 |          0.051 | 0.077 | 0.051 |      0.051 |    0.051 | 0.153 | 0.03  |          0.051 |  0.039 |  0.051 |      0.039 |  0.051 |      0.039 |       0.051 |      0.102 |   0.039 |      0.051 |     0.051 |    0.051 |        0.051 |      0.051 |        0.051 |       0.051 |    0.051 |    0.051 | 0.051 |  0.051 |  0.051 |      0.051 |  0.051 |    0.051 |   0.051 |     0.051 |   0.503 |  0.051 |        0.051 | 0.051 |   0.051 |   0.039 |   0.051 |    0.051 |       0.051 |     0.051 |     0.102 |     0.051 |      0.051 |    0.039 |  0.051 |        0.03  |   0.051 |         0.051 |   0.039 |     0.051 |       0.051 |     0.051 |        0.051 |         0.051 |  0.03  |  0.051 |        0.051 | 0.039 | 0.039 |     0.051 |  0.051 |    0.039 |   0.051 |   0.051 |   0.102 |   0.051 |\n",
            "+------------+-------+--------+-------+----------+----------------+-----------------+------------------+-----------------+-------------+---------------+---------------+-----------+----------+----------+---------+----------+-----------+-------+---------+-------+-------+------------+------------+-------------+---------+-----------+-----------+-----------+---------------------+-----------+---------+----------+----------+----------+-----------+--------------+------------+----------+--------------+-------+-------+-------------+-----------+-------------+-----------+--------+---------+-------+------------+--------+---------+-----------+-------+-----------+----------+----------+--------+--------+---------+--------+---------+---------+---------+-------+-----------+----------+------------+--------+--------+---------+---------+--------+---------+--------+-------+------------+-----------+------------+----------+-------+-------+----------+----------+------------+----------+--------+--------+------------+--------+---------+----------------+-------+-------+------------+----------+-------+-------+----------------+--------+--------+------------+--------+------------+-------------+------------+---------+------------+-----------+----------+--------------+------------+--------------+-------------+----------+----------+-------+--------+--------+------------+--------+----------+---------+-----------+---------+--------+--------------+-------+---------+---------+---------+----------+-------------+-----------+-----------+-----------+------------+----------+--------+--------------+---------+---------------+---------+-----------+-------------+-----------+--------------+---------------+--------+--------+--------------+-------+-------+-----------+--------+----------+---------+---------+---------+---------+\n"
          ]
        }
      ]
    },
    {
      "cell_type": "code",
      "source": [
        "from sklearn.feature_extraction.text import TfidfVectorizer"
      ],
      "metadata": {
        "id": "DYwOaAd0PcVt"
      },
      "execution_count": null,
      "outputs": []
    },
    {
      "cell_type": "code",
      "source": [
        "def process2_prompts(prompt_files):\n",
        "    docs = []\n",
        "    for prompt_file in prompt_files:\n",
        "        with open(prompt_file, 'r') as file:\n",
        "            prompt = file.read().strip()\n",
        "\n",
        "        # Step 1: Cleaning data\n",
        "        cleaned_prompt = clean_data(prompt)\n",
        "\n",
        "        # Step 2: Normalization (converting to lowercase)\n",
        "        normalized_prompt = cleaned_prompt.lower()\n",
        "\n",
        "        # Step 3: Tokenization\n",
        "        tokens = tokenize(normalized_prompt)\n",
        "\n",
        "        # Step 4: Lemmatization\n",
        "        lemmatized_tokens = lemmatize(tokens)\n",
        "\n",
        "        # Step 5: Remove stop words\n",
        "        filtered_tokens = remove_stopwords(lemmatized_tokens)\n",
        "\n",
        "        # Join tokens back into a sentence\n",
        "        processed_prompt = ' '.join(filtered_tokens)\n",
        "\n",
        "        # Add document to docs\n",
        "        docs.append(processed_prompt)\n",
        "\n",
        "    # Compute TF-IDF\n",
        "    tfidf_vectorizer = TfidfVectorizer()\n",
        "    tfidf_matrix = tfidf_vectorizer.fit_transform(docs)\n",
        "\n",
        "\n",
        "    return tfidf_matrix, tfidf_vectorizer.get_feature_names_out()"
      ],
      "metadata": {
        "id": "GJym6_iVPcYL"
      },
      "execution_count": null,
      "outputs": []
    },
    {
      "cell_type": "code",
      "source": [
        "# Process prompts and get TF-IDF matrix\n",
        "tfidf_matrix, feature_names = process2_prompts(prompt_files)"
      ],
      "metadata": {
        "id": "vPE1wmd7Pcab"
      },
      "execution_count": null,
      "outputs": []
    },
    {
      "cell_type": "code",
      "source": [
        "# Print Normalized TF-IDF Matrix (Document * Word)\n",
        "print(\"Normalized TF-IDF Matrix (Document * Word):\")\n",
        "\n",
        "# Print headers\n",
        "header = \"| Document \".ljust(12) + \"|\"\n",
        "for word in feature_names:\n",
        "    header += word.ljust(10) + \"|\"\n",
        "print(header)\n",
        "print(\"-\" * len(header))\n",
        "\n",
        "# Print matrix\n",
        "for i, row in enumerate(tfidf_matrix.toarray()):\n",
        "    doc = f\"| Document {i + 1} \".ljust(12) + \"|\"\n",
        "    values = [f\"{value:.3f}\".ljust(10) for value in row]\n",
        "    print(doc + \"|\".join(values) + \"|\")"
      ],
      "metadata": {
        "colab": {
          "base_uri": "https://localhost:8080/"
        },
        "id": "0S-N0dv3sIhy",
        "outputId": "84090b35-0791-43f2-8e5d-0d97ec563f22"
      },
      "execution_count": null,
      "outputs": [
        {
          "output_type": "stream",
          "name": "stdout",
          "text": [
            "Normalized TF-IDF Matrix (Document * Word):\n",
            "| Document  |10        |1980s     |2006      |2013      |2015      |3m        |ability   |academia  |accurate  |acted     |action    |actively  |agiricluture|agiricluturel|agiricluturets|agitrack  |agoristatic|agrawalamit|ai        |algorithm |already   |also      |always    |analyzed  |ancient   |andor     |answer    |approach  |archive   |around    |art       |article   |artificial|attribute |august    |automation|avoid     |aware     |barrier   |based     |behind    |beneficial|benefit   |big       |birth     |bit       |blog      |boy       |branch    |break     |broader   |building  |burdened  |business  |buzz      |called    |care      |career    |case      |category  |centre    |challenge |christian |city      |citysolutions|class     |classification|close     |closure   |college   |comfort   |commentary|community |computational|computer  |computergenerated|concept   |concerned |configure |construction|continue  |conversation|cost      |could     |course    |cradle    |created   |cultural  |data      |deep      |deeply    |define    |definition|degree    |deliver   |department|described |designed  |designer  |despite   |destiny   |detroit   |developed |developing|development|device    |dilemma   |disadvantaged|discover  |discussed |discussion|doe       |doesnt    |easy      |economy   |effort    |element   |embrace   |emerging  |energy    |engineer  |engineering|enlivened |ent       |enterprise|environment|environmental|error     |etc       |ethibond  |ethicon   |even      |event     |every     |evolution |execution |exemplar  |experienced|explosive |extensively|extent    |face      |facebook  |facing    |fashion   |field     |find      |fine      |first     |fly       |focus     |focused   |football  |forecast  |form      |forum     |framework |fulgham   |fully     |future    |general   |gentle    |gently    |gift      |give      |global    |go        |going     |gold      |got       |great     |green     |group     |growth    |guide     |ha        |hand      |healthier |highest   |historical|hot       |hotness   |idea      |image     |impact    |improve   |income    |increase  |increasingly|indicates |industry  |information|initiative|input     |inspired  |install   |intelligence|interesting|international|internet  |june      |key       |know      |known     |label     |lead      |learn     |learning  |legal     |let       |level     |leveraging|light     |like      |local     |long      |look      |loss      |lot       |machine   |major     |make      |man       |many      |material  |may       |mean      |meant     |medical   |medicine  |medium    |meet      |member    |men       |mining    |mit       |mixed     |ml        |mn        |model     |modern    |moment    |monthly   |mother    |movement  |mqi       |muslim    |must      |neck      |necklace  |need      |nepal     |network   |neural    |neurosurgery|new       |news      |next      |nj        |note      |noticed   |november  |number    |often     |old       |one       |order     |orthopaedics|ottawa    |output    |overindebtedness|overview  |paper     |part      |past      |paul      |people    |personal  |physical  |place     |plan      |planned   |population|predict   |pressure  |problem   |product   |provide   |provides  |providing |put       |question  |quite     |range     |rapid     |rational  |real      |realize   |reason    |recognition|reduce    |regulation|religion  |repessions|research  |residence |resident  |result    |review    |rise      |rising    |ritual    |river     |road      |robert    |roy       |rule      |sani      |saturday  |science   |scienceart|security  |see       |seems     |seen      |series    |shaping   |sharing   |shift     |short     |show      |similar   |site      |smart     |social    |soft      |software  |solve     |solved    |somerville|speech    |speed     |st        |stand     |stanford  |start     |state     |statistical|still     |story     |street    |stripe    |structure |subject   |subset    |success   |support   |surgery   |sustainable|suturing  |system    |take      |tana      |taught    |teach     |technology|term      |text      |thank     |therapeutic|thing     |think     |thought   |three     |time      |together  |topic     |tough     |train     |trained   |tribhuvan |trouble   |two       |understand|university|unnecessary|updated   |urban     |use       |used      |user      |using     |usually   |value     |vibrant   |volume    |vulnerable|wa        |way       |website   |welcome   |well      |weve      |wide      |wise      |within    |woman     |work      |world     |would     |wound     |young     |youre     |\n",
            "---------------------------------------------------------------------------------------------------------------------------------------------------------------------------------------------------------------------------------------------------------------------------------------------------------------------------------------------------------------------------------------------------------------------------------------------------------------------------------------------------------------------------------------------------------------------------------------------------------------------------------------------------------------------------------------------------------------------------------------------------------------------------------------------------------------------------------------------------------------------------------------------------------------------------------------------------------------------------------------------------------------------------------------------------------------------------------------------------------------------------------------------------------------------------------------------------------------------------------------------------------------------------------------------------------------------------------------------------------------------------------------------------------------------------------------------------------------------------------------------------------------------------------------------------------------------------------------------------------------------------------------------------------------------------------------------------------------------------------------------------------------------------------------------------------------------------------------------------------------------------------------------------------------------------------------------------------------------------------------------------------------------------------------------------------------------------------------------------------------------------------------------------------------------------------------------------------------------------------------------------------------------------------------------------------------------------------------------------------------------------------------------------------------------------------------------------------------------------------------------------------------------------------------------------------------------------------------------------------------------------------------------------------------------------------------------------------------------------------------------------------------------------------------------------------------------------------------------------------------------------------------------------------------------------------------------------------------------------------------------------------------------------------------------------------------------------------------------------------------------------------------------------------------------------------------------------------------------------------------------------------------------------------------------------------------------------------------------------------------------------------------------------------------------------------------------------------------------------------------------------------------------------------------------------------------------------------------------------------------------------------------------------------------------------------------------------------------------------------------------------------------------------------------------------------------------------------------------------------------------------------------------------------------------------------------------------------------------------------------------------------------------------------------------------------------------------------------------------------------------------------------------------------------------------------------------------------------------------------------------------------------------------------------------------------------------------------------------------------------------------------------------------------------------------------------------------------------------------------------------------------------------------------------------------------------------------------------------------------------------------------------------------------------------------------------------------------------------------------------------------------------------------------------------------------------\n",
            "| Document 1 |0.000     |0.038     |0.000     |0.000     |0.000     |0.000     |0.000     |0.000     |0.000     |0.000     |0.000     |0.038     |0.000     |0.000     |0.000     |0.000     |0.000     |0.000     |0.000     |0.000     |0.038     |0.038     |0.029     |0.000     |0.000     |0.000     |0.000     |0.114     |0.000     |0.029     |0.000     |0.000     |0.000     |0.038     |0.000     |0.000     |0.000     |0.000     |0.038     |0.000     |0.000     |0.000     |0.000     |0.029     |0.000     |0.000     |0.000     |0.000     |0.000     |0.038     |0.000     |0.038     |0.038     |0.029     |0.029     |0.000     |0.038     |0.038     |0.076     |0.000     |0.038     |0.029     |0.000     |0.720     |0.076     |0.000     |0.000     |0.000     |0.000     |0.000     |0.000     |0.000     |0.029     |0.000     |0.000     |0.000     |0.058     |0.000     |0.000     |0.038     |0.038     |0.038     |0.076     |0.000     |0.000     |0.000     |0.038     |0.038     |0.029     |0.000     |0.000     |0.029     |0.038     |0.000     |0.000     |0.000     |0.038     |0.000     |0.038     |0.038     |0.038     |0.038     |0.038     |0.000     |0.076     |0.000     |0.038     |0.038     |0.000     |0.029     |0.000     |0.000     |0.000     |0.038     |0.076     |0.038     |0.038     |0.038     |0.076     |0.038     |0.000     |0.000     |0.038     |0.000     |0.000     |0.038     |0.038     |0.000     |0.038     |0.000     |0.000     |0.000     |0.000     |0.038     |0.000     |0.000     |0.038     |0.038     |0.000     |0.038     |0.038     |0.000     |0.000     |0.038     |0.000     |0.000     |0.038     |0.000     |0.000     |0.000     |0.038     |0.000     |0.000     |0.000     |0.000     |0.000     |0.000     |0.000     |0.038     |0.029     |0.000     |0.000     |0.000     |0.000     |0.000     |0.038     |0.000     |0.000     |0.000     |0.029     |0.000     |0.000     |0.038     |0.058     |0.000     |0.045     |0.038     |0.038     |0.000     |0.000     |0.000     |0.000     |0.038     |0.000     |0.038     |0.000     |0.000     |0.000     |0.038     |0.038     |0.000     |0.000     |0.038     |0.000     |0.000     |0.000     |0.000     |0.029     |0.038     |0.000     |0.000     |0.038     |0.000     |0.038     |0.038     |0.000     |0.000     |0.000     |0.000     |0.038     |0.000     |0.038     |0.038     |0.000     |0.029     |0.000     |0.000     |0.000     |0.076     |0.000     |0.038     |0.076     |0.000     |0.086     |0.000     |0.038     |0.000     |0.000     |0.000     |0.000     |0.038     |0.038     |0.000     |0.000     |0.000     |0.000     |0.038     |0.000     |0.000     |0.000     |0.000     |0.000     |0.000     |0.000     |0.000     |0.000     |0.000     |0.000     |0.000     |0.000     |0.067     |0.000     |0.000     |0.000     |0.000     |0.000     |0.000     |0.000     |0.000     |0.000     |0.038     |0.000     |0.000     |0.038     |0.000     |0.089     |0.038     |0.000     |0.038     |0.000     |0.038     |0.000     |0.000     |0.000     |0.038     |0.000     |0.076     |0.000     |0.058     |0.076     |0.000     |0.038     |0.038     |0.000     |0.038     |0.029     |0.000     |0.000     |0.000     |0.000     |0.076     |0.000     |0.000     |0.029     |0.000     |0.000     |0.000     |0.000     |0.000     |0.000     |0.058     |0.000     |0.000     |0.000     |0.029     |0.000     |0.038     |0.038     |0.000     |0.038     |0.038     |0.000     |0.038     |0.038     |0.000     |0.000     |0.000     |0.000     |0.000     |0.000     |0.000     |0.000     |0.000     |0.000     |0.000     |0.000     |0.038     |0.076     |0.038     |0.000     |0.029     |0.000     |0.038     |0.432     |0.076     |0.000     |0.000     |0.000     |0.000     |0.000     |0.000     |0.000     |0.000     |0.000     |0.000     |0.000     |0.000     |0.000     |0.038     |0.000     |0.038     |0.000     |0.000     |0.000     |0.000     |0.000     |0.000     |0.000     |0.038     |0.000     |0.000     |0.000     |0.000     |0.000     |0.000     |0.022     |0.076     |0.000     |0.000     |0.000     |0.029     |0.076     |0.000     |0.029     |0.038     |0.000     |0.029     |0.038     |0.000     |0.000     |0.000     |0.000     |0.000     |0.038     |0.000     |0.000     |0.000     |0.076     |0.000     |0.022     |0.000     |0.000     |0.000     |0.029     |0.038     |0.000     |0.000     |0.029     |0.029     |0.000     |0.000     |0.000     |0.038     |0.000     |0.000     |0.000     |0.000     |0.029     |0.058     |0.000     |0.000     |0.000     |0.000     |\n",
            "| Document 2 |0.000     |0.000     |0.000     |0.029     |0.029     |0.000     |0.029     |0.029     |0.059     |0.029     |0.000     |0.000     |0.000     |0.000     |0.000     |0.000     |0.000     |0.000     |0.088     |0.118     |0.000     |0.000     |0.022     |0.029     |0.000     |0.029     |0.000     |0.000     |0.029     |0.000     |0.029     |0.029     |0.059     |0.000     |0.029     |0.029     |0.000     |0.029     |0.000     |0.029     |0.000     |0.029     |0.000     |0.000     |0.000     |0.000     |0.029     |0.000     |0.029     |0.000     |0.059     |0.000     |0.000     |0.000     |0.022     |0.029     |0.000     |0.000     |0.000     |0.000     |0.000     |0.022     |0.000     |0.000     |0.000     |0.029     |0.059     |0.000     |0.000     |0.000     |0.000     |0.029     |0.022     |0.029     |0.029     |0.000     |0.000     |0.029     |0.029     |0.000     |0.000     |0.000     |0.000     |0.000     |0.029     |0.000     |0.000     |0.000     |0.067     |0.029     |0.029     |0.000     |0.000     |0.000     |0.000     |0.000     |0.000     |0.022     |0.000     |0.000     |0.000     |0.000     |0.000     |0.029     |0.000     |0.000     |0.000     |0.000     |0.029     |0.022     |0.022     |0.000     |0.029     |0.000     |0.000     |0.000     |0.000     |0.000     |0.000     |0.000     |0.029     |0.029     |0.000     |0.000     |0.029     |0.000     |0.000     |0.029     |0.000     |0.000     |0.000     |0.029     |0.029     |0.000     |0.029     |0.000     |0.000     |0.000     |0.029     |0.000     |0.000     |0.029     |0.029     |0.000     |0.000     |0.029     |0.000     |0.000     |0.000     |0.000     |0.000     |0.029     |0.000     |0.029     |0.000     |0.000     |0.029     |0.000     |0.000     |0.022     |0.000     |0.000     |0.000     |0.000     |0.000     |0.000     |0.029     |0.000     |0.000     |0.022     |0.000     |0.000     |0.000     |0.022     |0.000     |0.035     |0.000     |0.000     |0.000     |0.029     |0.029     |0.029     |0.000     |0.029     |0.000     |0.029     |0.000     |0.029     |0.000     |0.000     |0.059     |0.029     |0.000     |0.059     |0.000     |0.029     |0.059     |0.022     |0.000     |0.059     |0.029     |0.000     |0.000     |0.000     |0.000     |0.000     |0.029     |0.648     |0.000     |0.000     |0.000     |0.000     |0.000     |0.045     |0.000     |0.029     |0.029     |0.000     |0.000     |0.589     |0.000     |0.000     |0.000     |0.022     |0.000     |0.000     |0.029     |0.029     |0.000     |0.000     |0.000     |0.000     |0.000     |0.000     |0.029     |0.029     |0.000     |0.088     |0.000     |0.029     |0.000     |0.029     |0.029     |0.000     |0.000     |0.029     |0.000     |0.000     |0.000     |0.000     |0.017     |0.000     |0.059     |0.059     |0.000     |0.112     |0.029     |0.029     |0.000     |0.029     |0.000     |0.000     |0.000     |0.000     |0.000     |0.017     |0.000     |0.000     |0.000     |0.029     |0.000     |0.029     |0.029     |0.022     |0.000     |0.000     |0.000     |0.029     |0.000     |0.000     |0.000     |0.000     |0.000     |0.088     |0.000     |0.022     |0.029     |0.029     |0.022     |0.000     |0.000     |0.000     |0.029     |0.022     |0.022     |0.000     |0.029     |0.000     |0.000     |0.059     |0.022     |0.000     |0.000     |0.000     |0.022     |0.000     |0.000     |0.000     |0.029     |0.000     |0.000     |0.000     |0.000     |0.000     |0.000     |0.000     |0.000     |0.000     |0.000     |0.029     |0.029     |0.059     |0.029     |0.029     |0.000     |0.000     |0.000     |0.000     |0.000     |0.000     |0.022     |0.000     |0.000     |0.000     |0.000     |0.000     |0.059     |0.059     |0.029     |0.000     |0.029     |0.029     |0.000     |0.000     |0.029     |0.059     |0.022     |0.029     |0.000     |0.000     |0.000     |0.000     |0.000     |0.029     |0.029     |0.000     |0.000     |0.000     |0.000     |0.000     |0.067     |0.029     |0.000     |0.029     |0.029     |0.017     |0.000     |0.029     |0.000     |0.000     |0.090     |0.000     |0.029     |0.000     |0.000     |0.029     |0.022     |0.000     |0.029     |0.000     |0.000     |0.000     |0.029     |0.000     |0.000     |0.000     |0.029     |0.000     |0.029     |0.052     |0.000     |0.059     |0.029     |0.022     |0.000     |0.029     |0.000     |0.000     |0.000     |0.029     |0.000     |0.029     |0.000     |0.029     |0.000     |0.022     |0.000     |0.022     |0.022     |0.000     |0.000     |0.000     |0.029     |\n",
            "| Document 3 |0.050     |0.000     |0.050     |0.000     |0.000     |0.050     |0.000     |0.000     |0.000     |0.000     |0.050     |0.000     |0.498     |0.100     |0.050     |0.050     |0.050     |0.050     |0.000     |0.000     |0.000     |0.000     |0.000     |0.000     |0.050     |0.000     |0.100     |0.000     |0.000     |0.038     |0.000     |0.000     |0.000     |0.000     |0.000     |0.000     |0.050     |0.000     |0.000     |0.000     |0.050     |0.000     |0.050     |0.038     |0.050     |0.050     |0.000     |0.050     |0.000     |0.000     |0.000     |0.000     |0.000     |0.038     |0.000     |0.000     |0.000     |0.000     |0.000     |0.050     |0.000     |0.000     |0.050     |0.000     |0.000     |0.000     |0.000     |0.050     |0.050     |0.100     |0.050     |0.000     |0.000     |0.000     |0.000     |0.050     |0.038     |0.000     |0.000     |0.000     |0.000     |0.000     |0.000     |0.050     |0.000     |0.050     |0.000     |0.000     |0.000     |0.000     |0.000     |0.038     |0.000     |0.050     |0.050     |0.050     |0.000     |0.076     |0.000     |0.000     |0.000     |0.000     |0.000     |0.000     |0.000     |0.050     |0.000     |0.000     |0.000     |0.000     |0.038     |0.050     |0.000     |0.000     |0.000     |0.000     |0.000     |0.000     |0.000     |0.000     |0.000     |0.000     |0.000     |0.050     |0.000     |0.000     |0.000     |0.000     |0.000     |0.050     |0.050     |0.000     |0.000     |0.000     |0.000     |0.050     |0.000     |0.000     |0.000     |0.000     |0.000     |0.000     |0.000     |0.000     |0.050     |0.000     |0.000     |0.050     |0.100     |0.050     |0.000     |0.000     |0.050     |0.000     |0.050     |0.050     |0.000     |0.050     |0.000     |0.000     |0.100     |0.050     |0.050     |0.100     |0.050     |0.000     |0.000     |0.050     |0.050     |0.000     |0.100     |0.050     |0.000     |0.000     |0.050     |0.029     |0.000     |0.000     |0.100     |0.000     |0.000     |0.000     |0.000     |0.000     |0.000     |0.000     |0.050     |0.000     |0.000     |0.000     |0.000     |0.000     |0.000     |0.000     |0.050     |0.000     |0.000     |0.000     |0.000     |0.000     |0.000     |0.000     |0.050     |0.000     |0.000     |0.050     |0.000     |0.000     |0.050     |0.000     |0.050     |0.000     |0.000     |0.038     |0.038     |0.000     |0.000     |0.050     |0.000     |0.000     |0.000     |0.000     |0.050     |0.000     |0.050     |0.000     |0.000     |0.000     |0.100     |0.050     |0.000     |0.000     |0.199     |0.050     |0.000     |0.000     |0.000     |0.000     |0.050     |0.000     |0.050     |0.000     |0.000     |0.050     |0.050     |0.000     |0.050     |0.050     |0.050     |0.050     |0.029     |0.050     |0.000     |0.000     |0.050     |0.076     |0.000     |0.000     |0.050     |0.000     |0.000     |0.050     |0.050     |0.000     |0.149     |0.029     |0.000     |0.050     |0.000     |0.000     |0.000     |0.000     |0.000     |0.038     |0.000     |0.050     |0.000     |0.000     |0.038     |0.000     |0.050     |0.000     |0.000     |0.000     |0.000     |0.000     |0.000     |0.000     |0.038     |0.050     |0.000     |0.100     |0.000     |0.000     |0.038     |0.050     |0.000     |0.050     |0.050     |0.000     |0.000     |0.050     |0.050     |0.050     |0.000     |0.050     |0.000     |0.000     |0.000     |0.000     |0.000     |0.050     |0.000     |0.000     |0.050     |0.050     |0.050     |0.050     |0.050     |0.000     |0.000     |0.000     |0.000     |0.000     |0.050     |0.050     |0.000     |0.000     |0.000     |0.050     |0.000     |0.050     |0.000     |0.492     |0.000     |0.050     |0.000     |0.000     |0.000     |0.050     |0.000     |0.000     |0.050     |0.050     |0.000     |0.000     |0.038     |0.000     |0.000     |0.050     |0.000     |0.050     |0.050     |0.000     |0.000     |0.050     |0.100     |0.050     |0.000     |0.050     |0.038     |0.000     |0.050     |0.000     |0.000     |0.029     |0.000     |0.000     |0.050     |0.050     |0.000     |0.000     |0.000     |0.038     |0.000     |0.000     |0.000     |0.000     |0.000     |0.050     |0.050     |0.050     |0.000     |0.000     |0.050     |0.050     |0.000     |0.000     |0.000     |0.029     |0.050     |0.000     |0.000     |0.000     |0.000     |0.000     |0.050     |0.038     |0.038     |0.000     |0.050     |0.000     |0.000     |0.000     |0.050     |0.038     |0.050     |0.000     |0.000     |0.050     |0.100     |0.050     |0.000     |\n"
          ]
        }
      ]
    },
    {
      "cell_type": "code",
      "source": [],
      "metadata": {
        "id": "b3gbogL9zp57"
      },
      "execution_count": null,
      "outputs": []
    }
  ]
}